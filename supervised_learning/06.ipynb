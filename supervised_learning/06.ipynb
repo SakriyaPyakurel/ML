{
 "cells": [
  {
   "cell_type": "markdown",
   "id": "a8fa0a4d",
   "metadata": {},
   "source": [
    "# Confusion matrix"
   ]
  },
  {
   "cell_type": "markdown",
   "id": "3fae17ce",
   "metadata": {},
   "source": [
    "A simple method which uses table to measure how well a classification model is performing.<br>\n",
    "Compares the predictions made by the model with actual results.<br>\n",
    "Helps us to understand where the model is making mistakes."
   ]
  },
  {
   "cell_type": "code",
   "execution_count": 1,
   "id": "3f31c7af",
   "metadata": {},
   "outputs": [],
   "source": [
    "# creating a simple confusion matrix for a binary classification task - importing necessary libraries\n",
    "import numpy as np \n",
    "import matplotlib.pyplot as plt\n",
    "from sklearn.metrics import confusion_matrix, ConfusionMatrixDisplay \n",
    "from sklearn.datasets import make_classification \n",
    "from sklearn.model_selection import train_test_split \n",
    "from sklearn.linear_model import LogisticRegression "
   ]
  },
  {
   "cell_type": "code",
   "execution_count": null,
   "id": "c68e07d2",
   "metadata": {},
   "outputs": [
    {
     "data": {
      "text/plain": [
       "array([0, 1, 1, 0, 1])"
      ]
     },
     "execution_count": 2,
     "metadata": {},
     "output_type": "execute_result"
    }
   ],
   "source": [
    "# creating a synthetic dataset for binary classification \n",
    "X, y = make_classification(n_samples=1000, n_features=20, n_informative=2, n_redundant=10, random_state=42)\n",
    "# splitting the dataset into training and testing sets \n",
    "X_train, X_test, y_train, y_test = train_test_split(X, y, test_size=0.2, random_state=42) \n",
    "# training a logistic regression model \n",
    "model = LogisticRegression() \n",
    "model.fit(X_train, y_train) \n",
    "# making predictions on the test set \n",
    "y_pred = model.predict(X_test)\n",
    "# dispklaying the made predictions - first 5\n",
    "y_pred[:5]"
   ]
  },
  {
   "cell_type": "code",
   "execution_count": 3,
   "id": "c6187cdb",
   "metadata": {},
   "outputs": [
    {
     "data": {
      "text/plain": [
       "array([[99, 12],\n",
       "       [13, 76]])"
      ]
     },
     "execution_count": 3,
     "metadata": {},
     "output_type": "execute_result"
    }
   ],
   "source": [
    "# displaying the confusion matrix \n",
    "cm = confusion_matrix(y_test, y_pred) \n",
    "cm"
   ]
  },
  {
   "cell_type": "code",
   "execution_count": 4,
   "id": "a237304c",
   "metadata": {},
   "outputs": [
    {
     "data": {
      "image/png": "[encoded data removed]",
      "text/plain": [
       "<Figure size 640x480 with 2 Axes>"
      ]
     },
     "metadata": {},
     "output_type": "display_data"
    }
   ],
   "source": [
    "# viewing the confusion matrix graphically \n",
    "disp = ConfusionMatrixDisplay(confusion_matrix=cm, display_labels=model.classes_) \n",
    "disp.plot(cmap=plt.cm.Blues)\n",
    "plt.show()"
   ]
  },
  {
   "cell_type": "markdown",
   "id": "15b2b8c8",
   "metadata": {},
   "source": [
    "<b>Interpretations:</b></br> \n",
    "\n",
    "According to above confusion matrix:<br>\n",
    "\n",
    "True Positives(TP's) = 99<br>\n",
    "False Negatives(FN's) = 12<br>\n",
    "False Positives(FP's) = 13<br>\n",
    "True Negatives(TN's) = 76"
   ]
  },
  {
   "cell_type": "code",
   "execution_count": 9,
   "id": "79dd0a39",
   "metadata": {},
   "outputs": [
    {
     "name": "stderr",
     "output_type": "stream",
     "text": [
      "C:\\Users\\Sakriya Pyakurel\\AppData\\Local\\Temp\\ipykernel_22556\\98975989.py:15: SettingWithCopyWarning: \n",
      "A value is trying to be set on a copy of a slice from a DataFrame.\n",
      "Try using .loc[row_indexer,col_indexer] = value instead\n",
      "\n",
      "See the caveats in the documentation: https://pandas.pydata.org/pandas-docs/stable/user_guide/indexing.html#returning-a-view-versus-a-copy\n",
      "  X['age'] = X['age'].fillna(X['age'].mean())\n"
     ]
    }
   ],
   "source": [
    "# creating confusion matrix for multilabel classification task \n",
    "import seaborn as sb \n",
    "import pandas as pd \n",
    "from sklearn.preprocessing import LabelEncoder\n",
    "# loading the titanic dataset\n",
    "df = sb.load_dataset('titanic') \n",
    "# encoding input categorical variables \n",
    "le = LabelEncoder()\n",
    "df['sex'] = le.fit_transform(df['sex']) \n",
    "df['alone'] = le.fit_transform(df['alone']) \n",
    "# selecting features and target variable \n",
    "X = df[['age','fare','sex','alone','survived']] \n",
    "Y = df['class']\n",
    "# handling missing values in the 'age' column by filling with mean\n",
    "X['age'] = X['age'].fillna(X['age'].mean())"
   ]
  },
  {
   "cell_type": "code",
   "execution_count": 10,
   "id": "1423a508",
   "metadata": {},
   "outputs": [
    {
     "name": "stderr",
     "output_type": "stream",
     "text": [
      "c:\\Users\\Sakriya Pyakurel\\AppData\\Local\\Programs\\Python\\Python313\\Lib\\site-packages\\sklearn\\linear_model\\_logistic.py:465: ConvergenceWarning: lbfgs failed to converge (status=1):\n",
      "STOP: TOTAL NO. OF ITERATIONS REACHED LIMIT.\n",
      "\n",
      "Increase the number of iterations (max_iter) or scale the data as shown in:\n",
      "    https://scikit-learn.org/stable/modules/preprocessing.html\n",
      "Please also refer to the documentation for alternative solver options:\n",
      "    https://scikit-learn.org/stable/modules/linear_model.html#logistic-regression\n",
      "  n_iter_i = _check_optimize_result(\n"
     ]
    },
    {
     "data": {
      "text/plain": [
       "array([[46,  2,  5],\n",
       "       [ 2,  6, 25],\n",
       "       [ 1,  3, 89]])"
      ]
     },
     "execution_count": 10,
     "metadata": {},
     "output_type": "execute_result"
    }
   ],
   "source": [
    "# dividing the dataset into training and testing sets \n",
    "X_train, X_test, y_train, y_test = train_test_split(X, Y, test_size=0.2, random_state=42) \n",
    "# training a logistic regression model \n",
    "model = LogisticRegression() \n",
    "model.fit(X_train, y_train) \n",
    "# making predictions on the test set \n",
    "y_pred = model.predict(X_test) \n",
    "# displaying the confusion matrix\n",
    "cm = confusion_matrix(y_test, y_pred) \n",
    "cm"
   ]
  },
  {
   "cell_type": "code",
   "execution_count": 11,
   "id": "64eac476",
   "metadata": {},
   "outputs": [
    {
     "data": {
      "text/plain": [
       "<module 'matplotlib.pyplot' from 'c:\\\\Users\\\\Sakriya Pyakurel\\\\AppData\\\\Local\\\\Programs\\\\Python\\\\Python313\\\\Lib\\\\site-packages\\\\matplotlib\\\\pyplot.py'>"
      ]
     },
     "execution_count": 11,
     "metadata": {},
     "output_type": "execute_result"
    },
    {
     "data": {
      "image/png": "[encoded data removed]",
      "text/plain": [
       "<Figure size 1000x700 with 2 Axes>"
      ]
     },
     "metadata": {},
     "output_type": "display_data"
    }
   ],
   "source": [
    "# viewing the confusion matrix graphically through seaborn heatmap \n",
    "plt.figure(figsize=(10,7)) \n",
    "sb.heatmap(pd.DataFrame(cm), annot=True, fmt='d', cmap='Blues', xticklabels=model.classes_, yticklabels=model.classes_) \n",
    "plt.title('Confusion Matrix') \n",
    "plt.xlabel('Predicted') \n",
    "plt.ylabel('Actual') \n",
    "plt"
   ]
  },
  {
   "cell_type": "markdown",
   "id": "da1896ca",
   "metadata": {},
   "source": [
    "<b>Interpretations:</b><br>\n",
    "\n",
    "i. The above confusion matrix displays the true labels for each predicted labels on the test data.<br>\n",
    "ii. The numeric figures determine the times the label are predicted in comparison to the actual ones.<br>\n",
    "iii. The blue color in the quadrant have high contrast in places with greater numeric values and low contrast in places with lower numeric values."
   ]
  }
 ],
 "metadata": {
  "kernelspec": {
   "display_name": "Python 3",
   "language": "python",
   "name": "python3"
  },
  "language_info": {
   "codemirror_mode": {
    "name": "ipython",
    "version": 3
   },
   "file_extension": ".py",
   "mimetype": "text/x-python",
   "name": "python",
   "nbconvert_exporter": "python",
   "pygments_lexer": "ipython3",
   "version": "3.13.2"
  }
 },
 "nbformat": 4,
 "nbformat_minor": 5
}

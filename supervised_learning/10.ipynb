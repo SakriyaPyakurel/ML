{
 "cells": [
  {
   "cell_type": "markdown",
   "id": "41cfb885",
   "metadata": {},
   "source": [
    "# Exploring distance metrics"
   ]
  },
  {
   "cell_type": "markdown",
   "id": "c89d3d6d",
   "metadata": {},
   "source": [
    "i. Euclidean Distance : A distance metrics for calculating the distance between two points going through a straight line.\n",
    "\n",
    "Euclidean Distance(P,Q) = [(x2-x1)^2 + (y2-y1)^2]^(1/2)<br>\n",
    "where,<br>\n",
    "P = (x1,x2)<br> \n",
    "Q = (x2,y2)"
   ]
  },
  {
   "cell_type": "code",
   "execution_count": 1,
   "id": "7fb04630",
   "metadata": {},
   "outputs": [],
   "source": [
    "def euclidean_distance_2p(p:tuple = (0,0),q:tuple = (0,0))->float:\n",
    "        import math as m \n",
    "        return m.sqrt((q[0]-p[0])**2 +(q[1] - p[1])**2)\n",
    "\n",
    "def euclidean_distance_np(p:list)->float:\n",
    "        distance = 0\n",
    "        for i in range(len(p)-1):\n",
    "            if i!=len(p) - 1:\n",
    "                  if isinstance(p[i],tuple) and isinstance(p[i+1],tuple):\n",
    "                        if (len(p[i])!=2) and (len(p[i+1])!=2):\n",
    "                            raise ValueError('All tuples should be of length 2')\n",
    "                        for point in (p[i], p[i+1]):\n",
    "                           for coord in point:\n",
    "                            if not isinstance(coord, (int, float)):\n",
    "                             raise ValueError(\"Only integers or floats allowed in tuples\")\n",
    "                        distance+= euclidean_distance_2p(p[i],p[i+1]) \n",
    "                  else:\n",
    "                        raise TypeError('Only tuple type allowed in list') \n",
    "        return distance"
   ]
  },
  {
   "cell_type": "code",
   "execution_count": 2,
   "id": "7815b8ad",
   "metadata": {},
   "outputs": [
    {
     "data": {
      "text/plain": [
       "5.656854249492381"
      ]
     },
     "execution_count": 2,
     "metadata": {},
     "output_type": "execute_result"
    }
   ],
   "source": [
    "# Trying euclidean_distance_2p\n",
    "P = (1,2) \n",
    "Q = (5,6) \n",
    "distance = euclidean_distance_2p(P,Q) \n",
    "distance"
   ]
  },
  {
   "cell_type": "code",
   "execution_count": 3,
   "id": "6aff99b0",
   "metadata": {},
   "outputs": [
    {
     "data": {
      "text/plain": [
       "8.485281374238571"
      ]
     },
     "execution_count": 3,
     "metadata": {},
     "output_type": "execute_result"
    }
   ],
   "source": [
    "# Trying euclidean_distance_np\n",
    "points = [(1,2),(5,6),(7,8)] \n",
    "distance = euclidean_distance_np(points) \n",
    "distance"
   ]
  },
  {
   "cell_type": "markdown",
   "id": "a94631e1",
   "metadata": {},
   "source": [
    "ii. Manhattan Distance : A distance metrics for calculating the distance between two points when going through twist and turns through other points.<br>\n",
    "\n",
    "Manhattan Distance(P,Q) = |x1-x2| + |y1-y2|<br>\n",
    "where,<br>\n",
    "P = (x1,x2)<br>\n",
    "Q = (y1,y2)"
   ]
  },
  {
   "cell_type": "code",
   "execution_count": 4,
   "id": "b6ae87ed",
   "metadata": {},
   "outputs": [],
   "source": [
    "def manhattan_distance_2p(p:tuple = (0,0),q:tuple = (0,0))->float:\n",
    "        import math as m \n",
    "        return abs(p[0]-q[0]) + abs(p[1]-q[1])\n",
    "\n",
    "def manhattan_distance_np(p:list)->float:\n",
    "        distance = 0\n",
    "        for i in range(len(p)-1):\n",
    "            if i!=len(p) - 1:\n",
    "                  if isinstance(p[i],tuple) and isinstance(p[i+1],tuple):\n",
    "                        if (len(p[i])!=2) and (len(p[i+1])!=2):\n",
    "                            raise ValueError('All tuples should be of length 2')\n",
    "                        for point in (p[i], p[i+1]):\n",
    "                           for coord in point:\n",
    "                            if not isinstance(coord, (int, float)):\n",
    "                             raise ValueError(\"Only integers or floats allowed in tuples\")\n",
    "                        distance+= manhattan_distance_2p(p[i],p[i+1]) \n",
    "                  else:\n",
    "                        raise TypeError('Only tuple type allowed in list') \n",
    "        return distance"
   ]
  },
  {
   "cell_type": "code",
   "execution_count": 5,
   "id": "39c7b628",
   "metadata": {},
   "outputs": [
    {
     "data": {
      "text/plain": [
       "8"
      ]
     },
     "execution_count": 5,
     "metadata": {},
     "output_type": "execute_result"
    }
   ],
   "source": [
    "# Trying manhattan_distance_2p \n",
    "distance = manhattan_distance_2p(P,Q) \n",
    "distance"
   ]
  },
  {
   "cell_type": "code",
   "execution_count": 6,
   "id": "4bdd84b0",
   "metadata": {},
   "outputs": [
    {
     "data": {
      "text/plain": [
       "12"
      ]
     },
     "execution_count": 6,
     "metadata": {},
     "output_type": "execute_result"
    }
   ],
   "source": [
    "# Trying manhattan_distance_np \n",
    "distance = manhattan_distance_np(points) \n",
    "distance"
   ]
  },
  {
   "cell_type": "markdown",
   "id": "5757f2cc",
   "metadata": {},
   "source": [
    "iii. Minkowski Distance : A generalized form of both euclidean and manhattan distance.<br>\n",
    "\n",
    "Minkowski Distance(A,B) = (|x1-x2|^2 - |y1-y2|^2)^1/p<br>\n",
    "where,<br>\n",
    "A = (x1,x2)<br>\n",
    "B = (y1,y2)<br>\n",
    "p = 1 for manhatthan distance and p=2 for euclidean distance"
   ]
  },
  {
   "cell_type": "code",
   "execution_count": 10,
   "id": "bd1c5d4b",
   "metadata": {},
   "outputs": [],
   "source": [
    "def minkowski_distance_2p(p:int,a:tuple=(0,0),b:tuple=(0,0))->float:\n",
    "    if p in [1,2]:\n",
    "        if p==1:\n",
    "          return manhattan_distance_2p(a,b)\n",
    "        else:\n",
    "           return euclidean_distance_2p(a,b) \n",
    "    else:\n",
    "       raise ValueError('p must be 1 for manhattan distance and 2 for euclidean distance') \n",
    "def minkowski_distance_np(p:int,a:list)->float:\n",
    "   if p in [1,2]:\n",
    "      if p==1:\n",
    "        return manhattan_distance_np(a) \n",
    "      else:\n",
    "         return euclidean_distance_np(a)\n",
    "   else:\n",
    "      raise ValueError('p must be 1 for manhattan distance and 2 for euclidean distance')\n"
   ]
  },
  {
   "cell_type": "code",
   "execution_count": null,
   "id": "b5945979",
   "metadata": {},
   "outputs": [
    {
     "name": "stdout",
     "output_type": "stream",
     "text": [
      "Euclidean_distance: 5.656854249492381\n",
      "Manhattan distance: 8\n"
     ]
    }
   ],
   "source": [
    "# trying minkowski distance with p=2 for euclidean distance for two points\n",
    "euclidean_distance = minkowski_distance_2p(2,(1,2),(5,6))\n",
    "print('Euclidean_distance:',euclidean_distance)\n",
    "# trying minkowski distance with p=1 for manhattan distance for two points\n",
    "manhattan_distance = minkowski_distance_2p(1,(1,2),(5,6)) \n",
    "print('Manhattan distance:',manhattan_distance)"
   ]
  },
  {
   "cell_type": "code",
   "execution_count": 12,
   "id": "4f8587b1",
   "metadata": {},
   "outputs": [
    {
     "name": "stdout",
     "output_type": "stream",
     "text": [
      "Euclidean distance:  8.485281374238571\n",
      "Manhattan distance:  12\n"
     ]
    }
   ],
   "source": [
    "l = [(1,2),(5,6),(7,8)]\n",
    "# trying minkowski distance with p=2 for euclidean distance for three points\n",
    "euclidean_distance_mp = minkowski_distance_np(2,l) \n",
    "print('Euclidean distance: ',euclidean_distance_mp) \n",
    "# trying minkowski distance with p=1 for manhattan distance for three points\n",
    "manhattan_distance_mp = minkowski_distance_np(1,l) \n",
    "print('Manhattan distance: ',manhattan_distance_mp) "
   ]
  }
 ],
 "metadata": {
  "kernelspec": {
   "display_name": "Python 3",
   "language": "python",
   "name": "python3"
  },
  "language_info": {
   "codemirror_mode": {
    "name": "ipython",
    "version": 3
   },
   "file_extension": ".py",
   "mimetype": "text/x-python",
   "name": "python",
   "nbconvert_exporter": "python",
   "pygments_lexer": "ipython3",
   "version": "3.13.2"
  }
 },
 "nbformat": 4,
 "nbformat_minor": 5
}

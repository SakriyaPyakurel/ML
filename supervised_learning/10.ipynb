{
 "cells": [
  {
   "cell_type": "markdown",
   "id": "41cfb885",
   "metadata": {},
   "source": [
    "# Exploring distance metrics"
   ]
  },
  {
   "cell_type": "markdown",
   "id": "c89d3d6d",
   "metadata": {},
   "source": [
    "i. Euclidean Distance : A distance metrics for calculating the distance between two points going through a straight line.\n",
    "\n",
    "Euclidean Distance(P,Q) = [(x2-x1)^2 + (y2-y1)^2]^(1/2)<br>\n",
    "where,<br>\n",
    "P = (x1,x2)<br> \n",
    "Q = (x2,y2)"
   ]
  },
  {
   "cell_type": "code",
   "execution_count": 42,
   "id": "7fb04630",
   "metadata": {},
   "outputs": [],
   "source": [
    "def euclidean_distance_2p(p:tuple = (0,0),q:tuple = (0,0))->float:\n",
    "        import math as m \n",
    "        return m.sqrt((q[0]-p[0])**2 +(q[1] - p[1])**2)\n",
    "\n",
    "def euclidean_distance_np(p:list)->float:\n",
    "        distance = 0\n",
    "        for i in range(len(p)-1):\n",
    "            if i!=len(p) - 1:\n",
    "                  if isinstance(p[i],tuple) and isinstance(p[i+1],tuple):\n",
    "                        if (len(p[i])!=2) and (len(p[i+1])!=2):\n",
    "                            raise ValueError('All tuples should be of length 2')\n",
    "                        for point in (p[i], p[i+1]):\n",
    "                           for coord in point:\n",
    "                            if not isinstance(coord, (int, float)):\n",
    "                             raise ValueError(\"Only integers or floats allowed in tuples\")\n",
    "                        distance+= euclidean_distance_2p(p[i],p[i+1]) \n",
    "                  else:\n",
    "                        raise TypeError('Only tuple type allowed in list') \n",
    "        return distance"
   ]
  },
  {
   "cell_type": "code",
   "execution_count": 43,
   "id": "7815b8ad",
   "metadata": {},
   "outputs": [
    {
     "data": {
      "text/plain": [
       "5.656854249492381"
      ]
     },
     "execution_count": 43,
     "metadata": {},
     "output_type": "execute_result"
    }
   ],
   "source": [
    "# Trying euclidean_distance_2p\n",
    "P = (1,2) \n",
    "Q = (5,6) \n",
    "distance = euclidean_distance_2p(P,Q) \n",
    "distance"
   ]
  },
  {
   "cell_type": "code",
   "execution_count": 44,
   "id": "6aff99b0",
   "metadata": {},
   "outputs": [
    {
     "data": {
      "text/plain": [
       "8.485281374238571"
      ]
     },
     "execution_count": 44,
     "metadata": {},
     "output_type": "execute_result"
    }
   ],
   "source": [
    "# Trying euclidean_distance_np\n",
    "points = [(1,2),(5,6),(7,8)] \n",
    "distance = euclidean_distance_np(points) \n",
    "distance"
   ]
  },
  {
   "cell_type": "markdown",
   "id": "a94631e1",
   "metadata": {},
   "source": [
    "ii. Manhattan Distance : A distance metrics for calculating the distance between two points when going through twist and turns through other points.<br>\n",
    "\n",
    "Manhattan Distance(P,Q) = |x1-x2| + |y1-y2|<br>\n",
    "where,<br>\n",
    "P = (x1,x2)<br>\n",
    "Q = (y1,y2)"
   ]
  },
  {
   "cell_type": "code",
   "execution_count": 45,
   "id": "b6ae87ed",
   "metadata": {},
   "outputs": [],
   "source": [
    "def manhattan_distance_2p(p:tuple = (0,0),q:tuple = (0,0))->float:\n",
    "        import math as m \n",
    "        return abs(p[0]-q[0]) + abs(p[1]-q[1])\n",
    "\n",
    "def manhattan_distance_np(p:list)->float:\n",
    "        distance = 0\n",
    "        for i in range(len(p)-1):\n",
    "            if i!=len(p) - 1:\n",
    "                  if isinstance(p[i],tuple) and isinstance(p[i+1],tuple):\n",
    "                        if (len(p[i])!=2) and (len(p[i+1])!=2):\n",
    "                            raise ValueError('All tuples should be of length 2')\n",
    "                        for point in (p[i], p[i+1]):\n",
    "                           for coord in point:\n",
    "                            if not isinstance(coord, (int, float)):\n",
    "                             raise ValueError(\"Only integers or floats allowed in tuples\")\n",
    "                        distance+= manhattan_distance_2p(p[i],p[i+1]) \n",
    "                  else:\n",
    "                        raise TypeError('Only tuple type allowed in list') \n",
    "        return distance"
   ]
  },
  {
   "cell_type": "code",
   "execution_count": 46,
   "id": "39c7b628",
   "metadata": {},
   "outputs": [
    {
     "data": {
      "text/plain": [
       "8"
      ]
     },
     "execution_count": 46,
     "metadata": {},
     "output_type": "execute_result"
    }
   ],
   "source": [
    "# Trying manhattan_distance_2p \n",
    "distance = manhattan_distance_2p(P,Q) \n",
    "distance"
   ]
  },
  {
   "cell_type": "code",
   "execution_count": 47,
   "id": "4bdd84b0",
   "metadata": {},
   "outputs": [
    {
     "data": {
      "text/plain": [
       "12"
      ]
     },
     "execution_count": 47,
     "metadata": {},
     "output_type": "execute_result"
    }
   ],
   "source": [
    "# Trying manhattan_distance_2p \n",
    "distance = manhattan_distance_np(points) \n",
    "distance"
   ]
  }
 ],
 "metadata": {
  "kernelspec": {
   "display_name": "Python 3",
   "language": "python",
   "name": "python3"
  },
  "language_info": {
   "codemirror_mode": {
    "name": "ipython",
    "version": 3
   },
   "file_extension": ".py",
   "mimetype": "text/x-python",
   "name": "python",
   "nbconvert_exporter": "python",
   "pygments_lexer": "ipython3",
   "version": "3.13.2"
  }
 },
 "nbformat": 4,
 "nbformat_minor": 5
}

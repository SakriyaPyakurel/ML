{
 "cells": [
  {
   "cell_type": "markdown",
   "id": "54018281",
   "metadata": {},
   "source": [
    "# Intermediate machine learning with sklearn"
   ]
  },
  {
   "cell_type": "markdown",
   "id": "e6c47222",
   "metadata": {},
   "source": [
    "## 1. Simple linear regression\n",
    "\n",
    "Linear regression is used to predict a numeric value based on the input features."
   ]
  },
  {
   "cell_type": "code",
   "execution_count": 15,
   "id": "cdf73d38",
   "metadata": {},
   "outputs": [
    {
     "name": "stdout",
     "output_type": "stream",
     "text": [
      "Predicted tip for a total bill of $35.27: $4.65\n"
     ]
    },
    {
     "name": "stderr",
     "output_type": "stream",
     "text": [
      "c:\\Users\\Sakriya Pyakurel\\AppData\\Local\\Programs\\Python\\Python313\\Lib\\site-packages\\sklearn\\utils\\validation.py:2739: UserWarning: X does not have valid feature names, but LinearRegression was fitted with feature names\n",
      "  warnings.warn(\n"
     ]
    }
   ],
   "source": [
    "# import libariries \n",
    "import pandas as pd \n",
    "import seaborn as sb\n",
    "from sklearn.linear_model import LinearRegression \n",
    "# load the dataset \n",
    "df = sb.load_dataset('tips') \n",
    "# select the features column from df \n",
    "X = df[['total_bill']] \n",
    "# select the target column from df \n",
    "y = df['tip'] \n",
    "# create the linear regression model \n",
    "model = LinearRegression() \n",
    "# fit the model with the data \n",
    "model.fit(X, y) \n",
    "# Predicting tip based on total_bill: $ 35.27\n",
    "predicted_tip = model.predict([[35.48]]) \n",
    "print(f\"Predicted tip for a total bill of $35.27: ${predicted_tip[0]:.2f}\")"
   ]
  },
  {
   "cell_type": "code",
   "execution_count": 16,
   "id": "c5cdda83",
   "metadata": {},
   "outputs": [
    {
     "name": "stdout",
     "output_type": "stream",
     "text": [
      "Model accuracy: 0.46\n"
     ]
    }
   ],
   "source": [
    "# checking the accuracy of the model\n",
    "accuracy = model.score(X,y)\n",
    "print(f\"Model accuracy: {accuracy:.2f}\")"
   ]
  },
  {
   "cell_type": "markdown",
   "id": "6217d1db",
   "metadata": {},
   "source": [
    "# 2. Multiple linear regression"
   ]
  },
  {
   "cell_type": "code",
   "execution_count": 17,
   "id": "3de4008a",
   "metadata": {},
   "outputs": [
    {
     "name": "stdout",
     "output_type": "stream",
     "text": [
      "Predicted tip for a total bill of $35.27 and size 4: $4.71\n"
     ]
    },
    {
     "name": "stderr",
     "output_type": "stream",
     "text": [
      "c:\\Users\\Sakriya Pyakurel\\AppData\\Local\\Programs\\Python\\Python313\\Lib\\site-packages\\sklearn\\utils\\validation.py:2739: UserWarning: X does not have valid feature names, but LinearRegression was fitted with feature names\n",
      "  warnings.warn(\n"
     ]
    }
   ],
   "source": [
    "X = df[['total_bill', 'size']] \n",
    "# fit the model\n",
    "model.fit(X, y) \n",
    "# Predicting tip based on total_bill: $ 35.27 and size: 4 \n",
    "predicted_tip = model.predict([[35.27, 4]])\n",
    "print(f\"Predicted tip for a total bill of $35.27 and size 4: ${predicted_tip[0]:.2f}\")"
   ]
  },
  {
   "cell_type": "code",
   "execution_count": 18,
   "id": "9c2dcac9",
   "metadata": {},
   "outputs": [
    {
     "name": "stdout",
     "output_type": "stream",
     "text": [
      "Model accuracy: 0.47\n"
     ]
    }
   ],
   "source": [
    "# Accuracy of the model \n",
    "accuracy = model.score(X, y) \n",
    "print(f\"Model accuracy: {accuracy:.2f}\")"
   ]
  },
  {
   "cell_type": "markdown",
   "id": "4412c652",
   "metadata": {},
   "source": [
    "<b>Interpretations:</b> \n",
    "\n",
    "i. The above multiple linear regression model is 47% accurate.<br>\n",
    "ii. As we included one more feature-size as input the accuracy of the model improved by 1% (increased by 1%). "
   ]
  },
  {
   "cell_type": "markdown",
   "id": "92f4fcbd",
   "metadata": {},
   "source": [
    "Now we will add one more vairable - smoker as input \n",
    "\n",
    "smoker is a categorical variable so we need to encode it into numeric for machine learning algorithm to work on it. If we dont encode it we will get an error."
   ]
  },
  {
   "cell_type": "code",
   "execution_count": 19,
   "id": "3382729e",
   "metadata": {},
   "outputs": [
    {
     "data": {
      "text/html": [
       "<div>\n",
       "<style scoped>\n",
       "    .dataframe tbody tr th:only-of-type {\n",
       "        vertical-align: middle;\n",
       "    }\n",
       "\n",
       "    .dataframe tbody tr th {\n",
       "        vertical-align: top;\n",
       "    }\n",
       "\n",
       "    .dataframe thead th {\n",
       "        text-align: right;\n",
       "    }\n",
       "</style>\n",
       "<table border=\"1\" class=\"dataframe\">\n",
       "  <thead>\n",
       "    <tr style=\"text-align: right;\">\n",
       "      <th></th>\n",
       "      <th>total_bill</th>\n",
       "      <th>tip</th>\n",
       "      <th>sex</th>\n",
       "      <th>smoker</th>\n",
       "      <th>day</th>\n",
       "      <th>time</th>\n",
       "      <th>size</th>\n",
       "    </tr>\n",
       "  </thead>\n",
       "  <tbody>\n",
       "    <tr>\n",
       "      <th>0</th>\n",
       "      <td>16.99</td>\n",
       "      <td>1.01</td>\n",
       "      <td>Female</td>\n",
       "      <td>0</td>\n",
       "      <td>Sun</td>\n",
       "      <td>Dinner</td>\n",
       "      <td>2</td>\n",
       "    </tr>\n",
       "    <tr>\n",
       "      <th>1</th>\n",
       "      <td>10.34</td>\n",
       "      <td>1.66</td>\n",
       "      <td>Male</td>\n",
       "      <td>0</td>\n",
       "      <td>Sun</td>\n",
       "      <td>Dinner</td>\n",
       "      <td>3</td>\n",
       "    </tr>\n",
       "    <tr>\n",
       "      <th>2</th>\n",
       "      <td>21.01</td>\n",
       "      <td>3.50</td>\n",
       "      <td>Male</td>\n",
       "      <td>0</td>\n",
       "      <td>Sun</td>\n",
       "      <td>Dinner</td>\n",
       "      <td>3</td>\n",
       "    </tr>\n",
       "    <tr>\n",
       "      <th>3</th>\n",
       "      <td>23.68</td>\n",
       "      <td>3.31</td>\n",
       "      <td>Male</td>\n",
       "      <td>0</td>\n",
       "      <td>Sun</td>\n",
       "      <td>Dinner</td>\n",
       "      <td>2</td>\n",
       "    </tr>\n",
       "    <tr>\n",
       "      <th>4</th>\n",
       "      <td>24.59</td>\n",
       "      <td>3.61</td>\n",
       "      <td>Female</td>\n",
       "      <td>0</td>\n",
       "      <td>Sun</td>\n",
       "      <td>Dinner</td>\n",
       "      <td>4</td>\n",
       "    </tr>\n",
       "  </tbody>\n",
       "</table>\n",
       "</div>"
      ],
      "text/plain": [
       "   total_bill   tip     sex smoker  day    time  size\n",
       "0       16.99  1.01  Female      0  Sun  Dinner     2\n",
       "1       10.34  1.66    Male      0  Sun  Dinner     3\n",
       "2       21.01  3.50    Male      0  Sun  Dinner     3\n",
       "3       23.68  3.31    Male      0  Sun  Dinner     2\n",
       "4       24.59  3.61  Female      0  Sun  Dinner     4"
      ]
     },
     "execution_count": 19,
     "metadata": {},
     "output_type": "execute_result"
    }
   ],
   "source": [
    "# encoding the smoker variable through manual mapping\n",
    "df['smoker'] = df['smoker'].map({'Yes': 1, 'No': 0}) \n",
    "# Displaying the first few rows of the dataframe to check the encoding\n",
    "df.head()"
   ]
  },
  {
   "cell_type": "markdown",
   "id": "51b56bdc",
   "metadata": {},
   "source": [
    "<b>Interpretation:</b> The values of smoker column are successfully encoded Yes is converted to 1 and No is converted to 0."
   ]
  },
  {
   "cell_type": "code",
   "execution_count": 20,
   "id": "5e625e07",
   "metadata": {},
   "outputs": [
    {
     "name": "stdout",
     "output_type": "stream",
     "text": [
      "Predicted tip for a total bill of $35.27, size 4, and smoker Yes: $4.66\n",
      "Predicted tip for a total bill of $35.27, size 4, and smoker No: $4.74\n"
     ]
    },
    {
     "name": "stderr",
     "output_type": "stream",
     "text": [
      "c:\\Users\\Sakriya Pyakurel\\AppData\\Local\\Programs\\Python\\Python313\\Lib\\site-packages\\sklearn\\utils\\validation.py:2739: UserWarning: X does not have valid feature names, but LinearRegression was fitted with feature names\n",
      "  warnings.warn(\n",
      "c:\\Users\\Sakriya Pyakurel\\AppData\\Local\\Programs\\Python\\Python313\\Lib\\site-packages\\sklearn\\utils\\validation.py:2739: UserWarning: X does not have valid feature names, but LinearRegression was fitted with feature names\n",
      "  warnings.warn(\n"
     ]
    }
   ],
   "source": [
    "# Prediction with the addition  new encoded variable - smoker as input\n",
    "X = df[['total_bill', 'size','smoker']] \n",
    "# fit the model \n",
    "model.fit(X, y) \n",
    "# Predicting tip based on total_bill: $ 35.27, size: 4, and smoker: Yes \n",
    "predicted_tip = model.predict([[35.27, 4, 1]])\n",
    "print(f\"Predicted tip for a total bill of $35.27, size 4, and smoker Yes: ${predicted_tip[0]:.2f}\")\n",
    "# Predicting tip based on total_bill: $ 35.27, size: 4, and smoker: No\n",
    "predicted_tip = model.predict([[35.27, 4, 0]]) \n",
    "print(f\"Predicted tip for a total bill of $35.27, size 4, and smoker No: ${predicted_tip[0]:.2f}\")"
   ]
  },
  {
   "cell_type": "code",
   "execution_count": 21,
   "id": "07c808b3",
   "metadata": {},
   "outputs": [
    {
     "name": "stdout",
     "output_type": "stream",
     "text": [
      "Model accuracy: 0.47\n"
     ]
    }
   ],
   "source": [
    "# checking the accuracy of the model \n",
    "accuracy = model.score(X,y) \n",
    "print(f\"Model accuracy: {accuracy:.2f}\")"
   ]
  },
  {
   "cell_type": "markdown",
   "id": "526c0d1c",
   "metadata": {},
   "source": [
    "Now we will add one more vairable - time  as input and encode it through sklearn's labeleconder for prediction of tip"
   ]
  },
  {
   "cell_type": "code",
   "execution_count": 22,
   "id": "c83fa030",
   "metadata": {},
   "outputs": [
    {
     "data": {
      "text/html": [
       "<div>\n",
       "<style scoped>\n",
       "    .dataframe tbody tr th:only-of-type {\n",
       "        vertical-align: middle;\n",
       "    }\n",
       "\n",
       "    .dataframe tbody tr th {\n",
       "        vertical-align: top;\n",
       "    }\n",
       "\n",
       "    .dataframe thead th {\n",
       "        text-align: right;\n",
       "    }\n",
       "</style>\n",
       "<table border=\"1\" class=\"dataframe\">\n",
       "  <thead>\n",
       "    <tr style=\"text-align: right;\">\n",
       "      <th></th>\n",
       "      <th>total_bill</th>\n",
       "      <th>tip</th>\n",
       "      <th>sex</th>\n",
       "      <th>smoker</th>\n",
       "      <th>day</th>\n",
       "      <th>time</th>\n",
       "      <th>size</th>\n",
       "    </tr>\n",
       "  </thead>\n",
       "  <tbody>\n",
       "    <tr>\n",
       "      <th>0</th>\n",
       "      <td>16.99</td>\n",
       "      <td>1.01</td>\n",
       "      <td>Female</td>\n",
       "      <td>0</td>\n",
       "      <td>Sun</td>\n",
       "      <td>0</td>\n",
       "      <td>2</td>\n",
       "    </tr>\n",
       "    <tr>\n",
       "      <th>1</th>\n",
       "      <td>10.34</td>\n",
       "      <td>1.66</td>\n",
       "      <td>Male</td>\n",
       "      <td>0</td>\n",
       "      <td>Sun</td>\n",
       "      <td>0</td>\n",
       "      <td>3</td>\n",
       "    </tr>\n",
       "    <tr>\n",
       "      <th>2</th>\n",
       "      <td>21.01</td>\n",
       "      <td>3.50</td>\n",
       "      <td>Male</td>\n",
       "      <td>0</td>\n",
       "      <td>Sun</td>\n",
       "      <td>0</td>\n",
       "      <td>3</td>\n",
       "    </tr>\n",
       "    <tr>\n",
       "      <th>3</th>\n",
       "      <td>23.68</td>\n",
       "      <td>3.31</td>\n",
       "      <td>Male</td>\n",
       "      <td>0</td>\n",
       "      <td>Sun</td>\n",
       "      <td>0</td>\n",
       "      <td>2</td>\n",
       "    </tr>\n",
       "    <tr>\n",
       "      <th>4</th>\n",
       "      <td>24.59</td>\n",
       "      <td>3.61</td>\n",
       "      <td>Female</td>\n",
       "      <td>0</td>\n",
       "      <td>Sun</td>\n",
       "      <td>0</td>\n",
       "      <td>4</td>\n",
       "    </tr>\n",
       "  </tbody>\n",
       "</table>\n",
       "</div>"
      ],
      "text/plain": [
       "   total_bill   tip     sex smoker  day  time  size\n",
       "0       16.99  1.01  Female      0  Sun     0     2\n",
       "1       10.34  1.66    Male      0  Sun     0     3\n",
       "2       21.01  3.50    Male      0  Sun     0     3\n",
       "3       23.68  3.31    Male      0  Sun     0     2\n",
       "4       24.59  3.61  Female      0  Sun     0     4"
      ]
     },
     "execution_count": 22,
     "metadata": {},
     "output_type": "execute_result"
    }
   ],
   "source": [
    "# import LabelEncoder from sklearn \n",
    "from sklearn.preprocessing import LabelEncoder \n",
    "# creating an instance of LabelEncoder\n",
    "le = LabelEncoder() \n",
    "# encoding the time variable \n",
    "df['time'] = le.fit_transform(df['time']) \n",
    "# Displaying the first 5 rows of the dataframe to check the encoding\n",
    "df.head()"
   ]
  },
  {
   "cell_type": "markdown",
   "id": "83ed2187",
   "metadata": {},
   "source": [
    "<b>Interpretation:</b> The time variable column is successfully converted into numeric values through label encoder."
   ]
  },
  {
   "cell_type": "code",
   "execution_count": 23,
   "id": "6cbfb26d",
   "metadata": {},
   "outputs": [
    {
     "name": "stdout",
     "output_type": "stream",
     "text": [
      "Actual values of the time variable: ['Dinner', 'Lunch']\n"
     ]
    }
   ],
   "source": [
    "# checking the actual values of the time variable \n",
    "print(\"Actual values of the time variable:\", list(le.classes_))"
   ]
  },
  {
   "cell_type": "markdown",
   "id": "25363061",
   "metadata": {},
   "source": [
    "<b>Interpretation:</b> The time variable only has two values just like the smoker column."
   ]
  },
  {
   "cell_type": "code",
   "execution_count": 24,
   "id": "471daaa9",
   "metadata": {},
   "outputs": [
    {
     "name": "stdout",
     "output_type": "stream",
     "text": [
      "Predicted tip for a total bill of $35.27, size 4,smoker yes and time Dinner: $4.66\n",
      "Predicted tip for a total bill of $35.27, size 4, smoker yes and time Lunch: $4.66\n"
     ]
    },
    {
     "name": "stderr",
     "output_type": "stream",
     "text": [
      "c:\\Users\\Sakriya Pyakurel\\AppData\\Local\\Programs\\Python\\Python313\\Lib\\site-packages\\sklearn\\utils\\validation.py:2739: UserWarning: X does not have valid feature names, but LinearRegression was fitted with feature names\n",
      "  warnings.warn(\n",
      "c:\\Users\\Sakriya Pyakurel\\AppData\\Local\\Programs\\Python\\Python313\\Lib\\site-packages\\sklearn\\utils\\validation.py:2739: UserWarning: X does not have valid feature names, but LinearRegression was fitted with feature names\n",
      "  warnings.warn(\n"
     ]
    }
   ],
   "source": [
    "# Prediction with the addition  new encoded variable - time as input\n",
    "X = df[['total_bill', 'size','smoker','time']] \n",
    "# fit the model \n",
    "model.fit(X, y) \n",
    "# Predicting tip based on total_bill: $ 35.27, size: 4, and time: Dinner \n",
    "predicted_tip = model.predict([[35.27, 4, 1,0]]) \n",
    "print(f\"Predicted tip for a total bill of $35.27, size 4,smoker yes and time Dinner: ${predicted_tip[0]:.2f}\") \n",
    "# Predicting tip based on total_bill: $ 35.27, size: 4, and time: Lunch \n",
    "predicted_tip = model.predict([[35.27, 4,1, 1]]) \n",
    "print(f\"Predicted tip for a total bill of $35.27, size 4, smoker yes and time Lunch: ${predicted_tip[0]:.2f}\")"
   ]
  },
  {
   "cell_type": "markdown",
   "id": "ee7e4eed",
   "metadata": {},
   "source": [
    "<b>Interpretation:</b> The predicted tip for Dinner time and Lunch time is same indicating their is no effect of time variable on predicted tip."
   ]
  },
  {
   "cell_type": "markdown",
   "id": "7e6f228a",
   "metadata": {},
   "source": [
    "# Gradient descent technique \n",
    "\n",
    "Finding the appropriate value of y-intercept(B0 or y) and slope(B1 or m) through gradient descent.\n",
    "\n",
    "y = B0 + B1 * x \n",
    "\n",
    "where,\n",
    "y = predicted_value<br>\n",
    "B0 = y-intercept<br>\n",
    "B1 = slope<br>\n",
    "x = value of input feature "
   ]
  },
  {
   "cell_type": "code",
   "execution_count": 25,
   "id": "2354bb19",
   "metadata": {},
   "outputs": [],
   "source": [
    "def gradient_descent(x, y, iterations:int=1000, learning_rate:float=0.0001):\n",
    "    import numpy as np\n",
    "    import math as m\n",
    "    x = np.array(x,dtype=float)\n",
    "    y = np.array(y,dtype=float)\n",
    "\n",
    "    if len(x) != len(y):\n",
    "        raise ValueError('The number of features must be equal to the number of target values') \n",
    "    m_curr = b_curr = 0\n",
    "    n = len(x)\n",
    "    prev_cost = float('inf')\n",
    "    tolerance = 1e-6\n",
    "    for i in range(iterations):\n",
    "        y_predicted = m_curr * x + b_curr\n",
    "        cost = (1/n) * sum((y - y_predicted) ** 2)\n",
    "\n",
    "        md = -(2/n) * sum(x * (y - y_predicted))\n",
    "        bd = -(2/n) * sum(y - y_predicted)\n",
    "\n",
    "        m_curr -= learning_rate * md\n",
    "        b_curr -= learning_rate * bd\n",
    "\n",
    "        if m.isclose(prev_cost-cost,tolerance,rel_tol=1e-9):\n",
    "            break \n",
    "        prev_cost = cost\n",
    "\n",
    "    return m_curr,b_curr"
   ]
  },
  {
   "cell_type": "code",
   "execution_count": 26,
   "id": "95907b9a",
   "metadata": {},
   "outputs": [
    {
     "name": "stdout",
     "output_type": "stream",
     "text": [
      "Slope: 5.184553005972767, Intercept: 1.6252179951331416\n"
     ]
    }
   ],
   "source": [
    "# using the custom gradient descent function to find the slope and intercept\n",
    "m,b = gradient_descent(df['tip'],df['total_bill'])\n",
    "print(f\"Slope: {m}, Intercept: {b}\")"
   ]
  },
  {
   "cell_type": "code",
   "execution_count": 27,
   "id": "27dca27e",
   "metadata": {},
   "outputs": [
    {
     "name": "stdout",
     "output_type": "stream",
     "text": [
      "Predicted total_bill for a tip of $35.27: $184.48\n"
     ]
    }
   ],
   "source": [
    "# predicting total_bill based on tip using the derived slope and intercept\n",
    "predicted_total = m * 35.27 + b \n",
    "print(f\"Predicted total_bill for a tip of $35.27: ${predicted_total:.2f}\")"
   ]
  },
  {
   "cell_type": "code",
   "execution_count": 28,
   "id": "fbf7f701",
   "metadata": {},
   "outputs": [
    {
     "name": "stdout",
     "output_type": "stream",
     "text": [
      "Slope : 0.1422244062881796 intercept: 0.036155515684372974\n",
      "Predicted tip for a total bill of 184.48 : $26.27\n"
     ]
    }
   ],
   "source": [
    "m,b = gradient_descent(df['total_bill'],df['tip']) \n",
    "print(f'Slope : {m} intercept: {b}') \n",
    "predicted_tip = m * predicted_total + b \n",
    "print(f'Predicted tip for a total bill of {predicted_total:.2f} : ${predicted_tip:.2f}')"
   ]
  }
 ],
 "metadata": {
  "kernelspec": {
   "display_name": "Python 3",
   "language": "python",
   "name": "python3"
  },
  "language_info": {
   "codemirror_mode": {
    "name": "ipython",
    "version": 3
   },
   "file_extension": ".py",
   "mimetype": "text/x-python",
   "name": "python",
   "nbconvert_exporter": "python",
   "pygments_lexer": "ipython3",
   "version": "3.13.2"
  }
 },
 "nbformat": 4,
 "nbformat_minor": 5
}

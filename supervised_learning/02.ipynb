{
 "cells": [
  {
   "cell_type": "markdown",
   "id": "54018281",
   "metadata": {},
   "source": [
    "# Intermediate machine learning with sklearn"
   ]
  },
  {
   "cell_type": "markdown",
   "id": "e6c47222",
   "metadata": {},
   "source": [
    "## 1. Simple linear regression"
   ]
  },
  {
   "cell_type": "code",
   "execution_count": 2,
   "id": "cdf73d38",
   "metadata": {},
   "outputs": [
    {
     "name": "stdout",
     "output_type": "stream",
     "text": [
      "Predicted tip for a total bill of $35.27: $4.65\n"
     ]
    },
    {
     "name": "stderr",
     "output_type": "stream",
     "text": [
      "c:\\Users\\Sakriya Pyakurel\\AppData\\Local\\Programs\\Python\\Python313\\Lib\\site-packages\\sklearn\\utils\\validation.py:2739: UserWarning: X does not have valid feature names, but LinearRegression was fitted with feature names\n",
      "  warnings.warn(\n"
     ]
    }
   ],
   "source": [
    "# import libariries \n",
    "import pandas as pd \n",
    "import seaborn as sb\n",
    "from sklearn.linear_model import LinearRegression \n",
    "# load the dataset \n",
    "df = sb.load_dataset('tips') \n",
    "# select the features column from df \n",
    "X = df[['total_bill']] \n",
    "# select the target column from df \n",
    "y = df['tip'] \n",
    "# create the linear regression model \n",
    "model = LinearRegression() \n",
    "# fit the model with the data \n",
    "model.fit(X, y) \n",
    "# Predicting tip based on total_bill: $ 35.27\n",
    "predicted_tip = model.predict([[35.48]]) \n",
    "print(f\"Predicted tip for a total bill of $35.27: ${predicted_tip[0]:.2f}\")"
   ]
  }
 ],
 "metadata": {
  "kernelspec": {
   "display_name": "Python 3",
   "language": "python",
   "name": "python3"
  },
  "language_info": {
   "codemirror_mode": {
    "name": "ipython",
    "version": 3
   },
   "file_extension": ".py",
   "mimetype": "text/x-python",
   "name": "python",
   "nbconvert_exporter": "python",
   "pygments_lexer": "ipython3",
   "version": "3.13.2"
  }
 },
 "nbformat": 4,
 "nbformat_minor": 5
}

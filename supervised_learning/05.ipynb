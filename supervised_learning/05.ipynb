{
 "cells": [
  {
   "cell_type": "markdown",
   "id": "324592ba",
   "metadata": {},
   "source": [
    "## Metrics - Overview\n",
    "\n",
    "Useful to evaluate how precise and accurate a ml model is.<br> \n",
    "Two types of evaluation metrics are there:<br>\n",
    "\n",
    "i. Regression metrics<br>\n",
    "ii. Classification metrics"
   ]
  },
  {
   "cell_type": "markdown",
   "id": "5993fdbc",
   "metadata": {},
   "source": [
    "# Regression metrics"
   ]
  },
  {
   "cell_type": "markdown",
   "id": "f55c9da9",
   "metadata": {},
   "source": [
    "a. Mean squared error(mse) : Average squared difference between predicted and actual values.\n",
    "\n",
    "MSE = (1/n) * Σ (predicted value - actual value)² <br>\n",
    "\n",
    "n is the number of data points.<br>\n",
    "Σ represents the summation of all squared differences.<br>"
   ]
  },
  {
   "cell_type": "code",
   "execution_count": 1,
   "id": "870fe3b2",
   "metadata": {},
   "outputs": [],
   "source": [
    "# importing necessary libraries \n",
    "from sklearn.linear_model import LinearRegression \n",
    "import seaborn as sb \n",
    "from sklearn.model_selection import train_test_split \n",
    "from sklearn.metrics import mean_squared_error\n",
    "# loading the dataset\n",
    "df = sb.load_dataset('tips') \n",
    "# selecting features and target variable \n",
    "X = df[['total_bill', 'size']]\n",
    "y = df['tip'] "
   ]
  },
  {
   "cell_type": "code",
   "execution_count": 3,
   "id": "d5688173",
   "metadata": {},
   "outputs": [
    {
     "data": {
      "text/plain": [
       "array([2.89943693, 1.89520002, 3.85933994, 3.9811207 , 2.27962736])"
      ]
     },
     "execution_count": 3,
     "metadata": {},
     "output_type": "execute_result"
    }
   ],
   "source": [
    "# splitting the dataset into training and testing sets \n",
    "X_train, X_test, y_train, y_test = train_test_split(X, y, test_size=0.2, random_state=42) \n",
    "# creating a linear regression model\n",
    "model = LinearRegression() \n",
    "# fitting the model to the training data\n",
    "model.fit(X_train, y_train) \n",
    "# making predictions on the test data \n",
    "y_pred = model.predict(X_test) \n",
    "# displaying the made predictions \n",
    "y_pred[:5]"
   ]
  },
  {
   "cell_type": "code",
   "execution_count": 6,
   "id": "b09cab82",
   "metadata": {},
   "outputs": [
    {
     "data": {
      "text/plain": [
       "0.6485996190543517"
      ]
     },
     "execution_count": 6,
     "metadata": {},
     "output_type": "execute_result"
    }
   ],
   "source": [
    "# calculating the mean squared error \n",
    "mse = mean_squared_error(y_test, y_pred) \n",
    "mse"
   ]
  },
  {
   "cell_type": "markdown",
   "id": "6e19b084",
   "metadata": {},
   "source": [
    "<b>Interpretation:</b> The average error or deviation of predicted value from the original values is about 0.65 according to mse(mean squared error) indicating good model performance but still room for improvement."
   ]
  }
 ],
 "metadata": {
  "kernelspec": {
   "display_name": "Python 3",
   "language": "python",
   "name": "python3"
  },
  "language_info": {
   "codemirror_mode": {
    "name": "ipython",
    "version": 3
   },
   "file_extension": ".py",
   "mimetype": "text/x-python",
   "name": "python",
   "nbconvert_exporter": "python",
   "pygments_lexer": "ipython3",
   "version": "3.13.2"
  }
 },
 "nbformat": 4,
 "nbformat_minor": 5
}

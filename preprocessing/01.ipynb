{
 "cells": [
  {
   "cell_type": "markdown",
   "id": "16b46a23",
   "metadata": {},
   "source": [
    "# Imputation of missing values - By supervised learning imputation"
   ]
  },
  {
   "cell_type": "markdown",
   "id": "19c1799c",
   "metadata": {},
   "source": [
    "# a. Simple imputation "
   ]
  },
  {
   "cell_type": "markdown",
   "id": "3caadb78",
   "metadata": {},
   "source": [
    "i. Simple imputation through mean and median : for numerical features"
   ]
  },
  {
   "cell_type": "code",
   "execution_count": 55,
   "id": "abd087a9",
   "metadata": {},
   "outputs": [
    {
     "data": {
      "text/html": [
       "<div>\n",
       "<style scoped>\n",
       "    .dataframe tbody tr th:only-of-type {\n",
       "        vertical-align: middle;\n",
       "    }\n",
       "\n",
       "    .dataframe tbody tr th {\n",
       "        vertical-align: top;\n",
       "    }\n",
       "\n",
       "    .dataframe thead th {\n",
       "        text-align: right;\n",
       "    }\n",
       "</style>\n",
       "<table border=\"1\" class=\"dataframe\">\n",
       "  <thead>\n",
       "    <tr style=\"text-align: right;\">\n",
       "      <th></th>\n",
       "      <th>survived</th>\n",
       "      <th>pclass</th>\n",
       "      <th>sex</th>\n",
       "      <th>age</th>\n",
       "      <th>sibsp</th>\n",
       "      <th>parch</th>\n",
       "      <th>fare</th>\n",
       "      <th>embarked</th>\n",
       "      <th>class</th>\n",
       "      <th>who</th>\n",
       "      <th>adult_male</th>\n",
       "      <th>deck</th>\n",
       "      <th>embark_town</th>\n",
       "      <th>alive</th>\n",
       "      <th>alone</th>\n",
       "    </tr>\n",
       "  </thead>\n",
       "  <tbody>\n",
       "    <tr>\n",
       "      <th>0</th>\n",
       "      <td>0</td>\n",
       "      <td>3</td>\n",
       "      <td>male</td>\n",
       "      <td>22.0</td>\n",
       "      <td>1</td>\n",
       "      <td>0</td>\n",
       "      <td>7.2500</td>\n",
       "      <td>S</td>\n",
       "      <td>Third</td>\n",
       "      <td>man</td>\n",
       "      <td>True</td>\n",
       "      <td>NaN</td>\n",
       "      <td>Southampton</td>\n",
       "      <td>no</td>\n",
       "      <td>False</td>\n",
       "    </tr>\n",
       "    <tr>\n",
       "      <th>1</th>\n",
       "      <td>1</td>\n",
       "      <td>1</td>\n",
       "      <td>female</td>\n",
       "      <td>38.0</td>\n",
       "      <td>1</td>\n",
       "      <td>0</td>\n",
       "      <td>71.2833</td>\n",
       "      <td>C</td>\n",
       "      <td>First</td>\n",
       "      <td>woman</td>\n",
       "      <td>False</td>\n",
       "      <td>C</td>\n",
       "      <td>Cherbourg</td>\n",
       "      <td>yes</td>\n",
       "      <td>False</td>\n",
       "    </tr>\n",
       "    <tr>\n",
       "      <th>2</th>\n",
       "      <td>1</td>\n",
       "      <td>3</td>\n",
       "      <td>female</td>\n",
       "      <td>26.0</td>\n",
       "      <td>0</td>\n",
       "      <td>0</td>\n",
       "      <td>7.9250</td>\n",
       "      <td>S</td>\n",
       "      <td>Third</td>\n",
       "      <td>woman</td>\n",
       "      <td>False</td>\n",
       "      <td>NaN</td>\n",
       "      <td>Southampton</td>\n",
       "      <td>yes</td>\n",
       "      <td>True</td>\n",
       "    </tr>\n",
       "    <tr>\n",
       "      <th>3</th>\n",
       "      <td>1</td>\n",
       "      <td>1</td>\n",
       "      <td>female</td>\n",
       "      <td>35.0</td>\n",
       "      <td>1</td>\n",
       "      <td>0</td>\n",
       "      <td>53.1000</td>\n",
       "      <td>S</td>\n",
       "      <td>First</td>\n",
       "      <td>woman</td>\n",
       "      <td>False</td>\n",
       "      <td>C</td>\n",
       "      <td>Southampton</td>\n",
       "      <td>yes</td>\n",
       "      <td>False</td>\n",
       "    </tr>\n",
       "    <tr>\n",
       "      <th>4</th>\n",
       "      <td>0</td>\n",
       "      <td>3</td>\n",
       "      <td>male</td>\n",
       "      <td>35.0</td>\n",
       "      <td>0</td>\n",
       "      <td>0</td>\n",
       "      <td>8.0500</td>\n",
       "      <td>S</td>\n",
       "      <td>Third</td>\n",
       "      <td>man</td>\n",
       "      <td>True</td>\n",
       "      <td>NaN</td>\n",
       "      <td>Southampton</td>\n",
       "      <td>no</td>\n",
       "      <td>True</td>\n",
       "    </tr>\n",
       "  </tbody>\n",
       "</table>\n",
       "</div>"
      ],
      "text/plain": [
       "   survived  pclass     sex   age  ...  deck  embark_town  alive  alone\n",
       "0         0       3    male  22.0  ...   NaN  Southampton     no  False\n",
       "1         1       1  female  38.0  ...     C    Cherbourg    yes  False\n",
       "2         1       3  female  26.0  ...   NaN  Southampton    yes   True\n",
       "3         1       1  female  35.0  ...     C  Southampton    yes  False\n",
       "4         0       3    male  35.0  ...   NaN  Southampton     no   True\n",
       "\n",
       "[5 rows x 15 columns]"
      ]
     },
     "execution_count": 55,
     "metadata": {},
     "output_type": "execute_result"
    }
   ],
   "source": [
    "import seaborn as sb \n",
    "df_mean_impute = sb.load_dataset('titanic') \n",
    "# Printing the first five rows of the dataset\n",
    "df_mean_impute.head()"
   ]
  },
  {
   "cell_type": "code",
   "execution_count": 56,
   "id": "f7adf72b",
   "metadata": {},
   "outputs": [
    {
     "data": {
      "text/plain": [
       "survived         0\n",
       "pclass           0\n",
       "sex              0\n",
       "age            177\n",
       "sibsp            0\n",
       "parch            0\n",
       "fare             0\n",
       "embarked         2\n",
       "class            0\n",
       "who              0\n",
       "adult_male       0\n",
       "deck           688\n",
       "embark_town      2\n",
       "alive            0\n",
       "alone            0\n",
       "dtype: int64"
      ]
     },
     "execution_count": 56,
     "metadata": {},
     "output_type": "execute_result"
    }
   ],
   "source": [
    "# check for null values \n",
    "df_mean_impute.isna().sum()"
   ]
  },
  {
   "cell_type": "code",
   "execution_count": 57,
   "id": "1dfad847",
   "metadata": {},
   "outputs": [
    {
     "data": {
      "text/plain": [
       "np.int64(0)"
      ]
     },
     "execution_count": 57,
     "metadata": {},
     "output_type": "execute_result"
    }
   ],
   "source": [
    "# handling null values in age column through simple mean imputation \n",
    "df_mean_impute['age'] = df_mean_impute['age'].fillna(df_mean_impute['age'].mean())\n",
    "# checking for null values in age column \n",
    "df_mean_impute['age'].isna().sum()"
   ]
  },
  {
   "cell_type": "code",
   "execution_count": 58,
   "id": "b25bd949",
   "metadata": {},
   "outputs": [
    {
     "data": {
      "text/plain": [
       "np.int64(0)"
      ]
     },
     "execution_count": 58,
     "metadata": {},
     "output_type": "execute_result"
    }
   ],
   "source": [
    "# handling null values in age column through simple median imputation \n",
    "df_median_impute = sb.load_dataset('titanic')\n",
    "df_median_impute['age'] = df_median_impute['age'].fillna(df_median_impute['age'].median())\n",
    "# checking for null values in age column \n",
    "df_median_impute['age'].isna().sum()"
   ]
  },
  {
   "cell_type": "markdown",
   "id": "7a6f6474",
   "metadata": {},
   "source": [
    "ii. Simple imputation through mode : for categorical values "
   ]
  },
  {
   "cell_type": "code",
   "execution_count": 59,
   "id": "1afcaffe",
   "metadata": {},
   "outputs": [
    {
     "data": {
      "text/plain": [
       "np.int64(687)"
      ]
     },
     "execution_count": 59,
     "metadata": {},
     "output_type": "execute_result"
    }
   ],
   "source": [
    "# handling null values in deck column through simple mode imputation \n",
    "df_mode_impute = sb.load_dataset('titanic')\n",
    "df_mode_impute['deck'] = df_mode_impute['deck'].fillna(df_mode_impute['deck'].mode()) \n",
    "# checking for null values in deck column \n",
    "df_mode_impute['deck'].isna().sum()"
   ]
  },
  {
   "cell_type": "markdown",
   "id": "f8a55d65",
   "metadata": {},
   "source": [
    "We were unable to handle the null values in deck column through mode imputation so we gonna drop the entire deck column"
   ]
  },
  {
   "cell_type": "code",
   "execution_count": 60,
   "id": "8c2ad3ce",
   "metadata": {},
   "outputs": [
    {
     "data": {
      "text/html": [
       "<div>\n",
       "<style scoped>\n",
       "    .dataframe tbody tr th:only-of-type {\n",
       "        vertical-align: middle;\n",
       "    }\n",
       "\n",
       "    .dataframe tbody tr th {\n",
       "        vertical-align: top;\n",
       "    }\n",
       "\n",
       "    .dataframe thead th {\n",
       "        text-align: right;\n",
       "    }\n",
       "</style>\n",
       "<table border=\"1\" class=\"dataframe\">\n",
       "  <thead>\n",
       "    <tr style=\"text-align: right;\">\n",
       "      <th></th>\n",
       "      <th>survived</th>\n",
       "      <th>pclass</th>\n",
       "      <th>sex</th>\n",
       "      <th>age</th>\n",
       "      <th>sibsp</th>\n",
       "      <th>parch</th>\n",
       "      <th>fare</th>\n",
       "      <th>embarked</th>\n",
       "      <th>class</th>\n",
       "      <th>who</th>\n",
       "      <th>adult_male</th>\n",
       "      <th>embark_town</th>\n",
       "      <th>alive</th>\n",
       "      <th>alone</th>\n",
       "    </tr>\n",
       "  </thead>\n",
       "  <tbody>\n",
       "    <tr>\n",
       "      <th>0</th>\n",
       "      <td>0</td>\n",
       "      <td>3</td>\n",
       "      <td>male</td>\n",
       "      <td>22.0</td>\n",
       "      <td>1</td>\n",
       "      <td>0</td>\n",
       "      <td>7.2500</td>\n",
       "      <td>S</td>\n",
       "      <td>Third</td>\n",
       "      <td>man</td>\n",
       "      <td>True</td>\n",
       "      <td>Southampton</td>\n",
       "      <td>no</td>\n",
       "      <td>False</td>\n",
       "    </tr>\n",
       "    <tr>\n",
       "      <th>1</th>\n",
       "      <td>1</td>\n",
       "      <td>1</td>\n",
       "      <td>female</td>\n",
       "      <td>38.0</td>\n",
       "      <td>1</td>\n",
       "      <td>0</td>\n",
       "      <td>71.2833</td>\n",
       "      <td>C</td>\n",
       "      <td>First</td>\n",
       "      <td>woman</td>\n",
       "      <td>False</td>\n",
       "      <td>Cherbourg</td>\n",
       "      <td>yes</td>\n",
       "      <td>False</td>\n",
       "    </tr>\n",
       "    <tr>\n",
       "      <th>2</th>\n",
       "      <td>1</td>\n",
       "      <td>3</td>\n",
       "      <td>female</td>\n",
       "      <td>26.0</td>\n",
       "      <td>0</td>\n",
       "      <td>0</td>\n",
       "      <td>7.9250</td>\n",
       "      <td>S</td>\n",
       "      <td>Third</td>\n",
       "      <td>woman</td>\n",
       "      <td>False</td>\n",
       "      <td>Southampton</td>\n",
       "      <td>yes</td>\n",
       "      <td>True</td>\n",
       "    </tr>\n",
       "    <tr>\n",
       "      <th>3</th>\n",
       "      <td>1</td>\n",
       "      <td>1</td>\n",
       "      <td>female</td>\n",
       "      <td>35.0</td>\n",
       "      <td>1</td>\n",
       "      <td>0</td>\n",
       "      <td>53.1000</td>\n",
       "      <td>S</td>\n",
       "      <td>First</td>\n",
       "      <td>woman</td>\n",
       "      <td>False</td>\n",
       "      <td>Southampton</td>\n",
       "      <td>yes</td>\n",
       "      <td>False</td>\n",
       "    </tr>\n",
       "    <tr>\n",
       "      <th>4</th>\n",
       "      <td>0</td>\n",
       "      <td>3</td>\n",
       "      <td>male</td>\n",
       "      <td>35.0</td>\n",
       "      <td>0</td>\n",
       "      <td>0</td>\n",
       "      <td>8.0500</td>\n",
       "      <td>S</td>\n",
       "      <td>Third</td>\n",
       "      <td>man</td>\n",
       "      <td>True</td>\n",
       "      <td>Southampton</td>\n",
       "      <td>no</td>\n",
       "      <td>True</td>\n",
       "    </tr>\n",
       "  </tbody>\n",
       "</table>\n",
       "</div>"
      ],
      "text/plain": [
       "   survived  pclass     sex   age  ...  adult_male  embark_town  alive  alone\n",
       "0         0       3    male  22.0  ...        True  Southampton     no  False\n",
       "1         1       1  female  38.0  ...       False    Cherbourg    yes  False\n",
       "2         1       3  female  26.0  ...       False  Southampton    yes   True\n",
       "3         1       1  female  35.0  ...       False  Southampton    yes  False\n",
       "4         0       3    male  35.0  ...        True  Southampton     no   True\n",
       "\n",
       "[5 rows x 14 columns]"
      ]
     },
     "execution_count": 60,
     "metadata": {},
     "output_type": "execute_result"
    }
   ],
   "source": [
    "# dropping deck column from the dataframe \n",
    "df_mode_impute.drop('deck',axis=1,inplace=True)\n",
    "df_mode_impute.head()"
   ]
  },
  {
   "cell_type": "markdown",
   "id": "12038421",
   "metadata": {},
   "source": [
    "## b. Decision Tree imputation "
   ]
  },
  {
   "cell_type": "markdown",
   "id": "78a507c5",
   "metadata": {},
   "source": [
    "i. Imputation through decision tree classifier : for categorical variable"
   ]
  },
  {
   "cell_type": "code",
   "execution_count": 61,
   "id": "e3b9e9b6",
   "metadata": {},
   "outputs": [],
   "source": [
    "from sklearn.tree import DecisionTreeClassifier\n",
    "from sklearn.preprocessing import LabelEncoder\n",
    "df_decision_impute = sb.load_dataset('titanic')\n",
    "df_decision_impute['sex_encoded'] = LabelEncoder().fit_transform(df_decision_impute['sex'])\n",
    "feature_cols = ['fare', 'age', 'pclass', 'sex_encoded']\n",
    "known_mask = df_decision_impute['embark_town'].notna()\n",
    "unknown_mask = df_decision_impute['embark_town'].isna()\n",
    "df_known = df_decision_impute.loc[known_mask, feature_cols + ['embark_town']].dropna()\n",
    "X_train = df_known[feature_cols]\n",
    "y_train_raw = df_known['embark_town']\n",
    "le = LabelEncoder()\n",
    "y_train = le.fit_transform(y_train_raw)\n",
    "dtc_imputer = DecisionTreeClassifier()\n",
    "dtc_imputer.fit(X_train, y_train)\n",
    "df_missing = df_decision_impute.loc[unknown_mask, feature_cols].dropna()\n",
    "missing_indices = df_missing.index\n",
    "y_pred_encoded = dtc_imputer.predict(df_missing)\n",
    "y_pred = le.inverse_transform(y_pred_encoded)\n",
    "df_decision_impute.loc[missing_indices, 'embark_town'] = y_pred"
   ]
  },
  {
   "cell_type": "code",
   "execution_count": 62,
   "id": "5393e1e2",
   "metadata": {},
   "outputs": [
    {
     "data": {
      "text/plain": [
       "np.int64(0)"
      ]
     },
     "execution_count": 62,
     "metadata": {},
     "output_type": "execute_result"
    }
   ],
   "source": [
    "# checking for null values in embark_town column\n",
    "df_decision_impute['embark_town'].isna().sum()"
   ]
  },
  {
   "cell_type": "markdown",
   "id": "99c36f6c",
   "metadata": {},
   "source": [
    "ii. Imputation through decision tree regressor : for numerical variable"
   ]
  },
  {
   "cell_type": "code",
   "execution_count": 63,
   "id": "44590434",
   "metadata": {},
   "outputs": [],
   "source": [
    "from sklearn.tree import DecisionTreeRegressor\n",
    "\n",
    "df_age_impute = sb.load_dataset('titanic')\n",
    "\n",
    "feature_cols = ['fare', 'pclass', 'sex', 'embark_town']\n",
    "\n",
    "df_age_impute['sex_encoded'] = LabelEncoder().fit_transform(df_age_impute['sex'])\n",
    "df_age_impute['embark_town_encoded'] = LabelEncoder().fit_transform(df_age_impute['embark_town'])\n",
    "\n",
    "\n",
    "feature_cols = ['fare', 'pclass', 'sex_encoded', 'embark_town_encoded']\n",
    "\n",
    "known_mask = df_age_impute['age'].notna()\n",
    "unknown_mask = df_age_impute['age'].isna()\n",
    "\n",
    "df_known = df_age_impute.loc[known_mask, feature_cols + ['age']].dropna()\n",
    "\n",
    "X_train = df_known[feature_cols]\n",
    "y_train = df_known['age']\n",
    "\n",
    "dtr_imputer = DecisionTreeRegressor()\n",
    "dtr_imputer.fit(X_train, y_train)\n",
    "\n",
    "df_missing = df_age_impute.loc[unknown_mask, feature_cols].dropna()\n",
    "missing_indices = df_missing.index\n",
    "\n",
    "y_pred = dtr_imputer.predict(df_missing)\n",
    "\n",
    "df_age_impute.loc[missing_indices, 'age'] = y_pred"
   ]
  },
  {
   "cell_type": "code",
   "execution_count": 64,
   "id": "76fc72a1",
   "metadata": {},
   "outputs": [
    {
     "data": {
      "text/plain": [
       "np.int64(0)"
      ]
     },
     "execution_count": 64,
     "metadata": {},
     "output_type": "execute_result"
    }
   ],
   "source": [
    "# checking for null values in age column \n",
    "df_age_impute['age'].isna().sum()"
   ]
  },
  {
   "cell_type": "markdown",
   "id": "8250acdd",
   "metadata": {},
   "source": [
    "# c. Random forest imputation"
   ]
  },
  {
   "cell_type": "markdown",
   "id": "d8f95031",
   "metadata": {},
   "source": [
    "i. Imputation through random forest classifier : for categorical variable"
   ]
  },
  {
   "cell_type": "code",
   "execution_count": 65,
   "id": "86c5313f",
   "metadata": {},
   "outputs": [],
   "source": [
    "from sklearn.ensemble import RandomForestClassifier\n",
    "from sklearn.preprocessing import LabelEncoder\n",
    "df_rfc_impute = sb.load_dataset('titanic')\n",
    "df_rfc_impute['sex_encoded'] = LabelEncoder().fit_transform(df_rfc_impute['sex'])\n",
    "feature_cols = ['fare', 'age', 'pclass', 'sex_encoded']\n",
    "known_mask = df_rfc_impute['embark_town'].notna()\n",
    "unknown_mask = df_rfc_impute['embark_town'].isna()\n",
    "df_known = df_rfc_impute.loc[known_mask, feature_cols + ['embark_town']].dropna()\n",
    "X_train = df_known[feature_cols]\n",
    "y_train_raw = df_known['embark_town']\n",
    "le = LabelEncoder()\n",
    "y_train = le.fit_transform(y_train_raw)\n",
    "rfc_imputer = RandomForestClassifier()\n",
    "rfc_imputer.fit(X_train, y_train)\n",
    "df_missing = df_rfc_impute.loc[unknown_mask, feature_cols].dropna()\n",
    "missing_indices = df_missing.index\n",
    "y_pred_encoded = rfc_imputer.predict(df_missing)\n",
    "y_pred = le.inverse_transform(y_pred_encoded)\n",
    "df_rfc_impute.loc[missing_indices, 'embark_town'] = y_pred"
   ]
  },
  {
   "cell_type": "code",
   "execution_count": 66,
   "id": "cff66bc9",
   "metadata": {},
   "outputs": [
    {
     "data": {
      "text/plain": [
       "np.int64(0)"
      ]
     },
     "execution_count": 66,
     "metadata": {},
     "output_type": "execute_result"
    }
   ],
   "source": [
    "# checking for null values in embark_town column \n",
    "df_rfc_impute['embark_town'].isna().sum()"
   ]
  },
  {
   "cell_type": "markdown",
   "id": "57e8a22b",
   "metadata": {},
   "source": [
    "ii. imputation through random forest regressor: for numerical variable"
   ]
  },
  {
   "cell_type": "code",
   "execution_count": 67,
   "id": "d23d5630",
   "metadata": {},
   "outputs": [],
   "source": [
    "from sklearn.ensemble import RandomForestRegressor\n",
    "\n",
    "df_rfr_impute = sb.load_dataset('titanic')\n",
    "\n",
    "feature_cols = ['fare', 'pclass', 'sex', 'embark_town']\n",
    "\n",
    "df_rfr_impute['sex_encoded'] = LabelEncoder().fit_transform(df_rfr_impute['sex'])\n",
    "df_rfr_impute['embark_town_encoded'] = LabelEncoder().fit_transform(df_rfr_impute['embark_town'])\n",
    "\n",
    "\n",
    "feature_cols = ['fare', 'pclass', 'sex_encoded', 'embark_town_encoded']\n",
    "\n",
    "known_mask = df_rfr_impute['age'].notna()\n",
    "unknown_mask = df_rfr_impute['age'].isna()\n",
    "\n",
    "df_known = df_rfr_impute.loc[known_mask, feature_cols + ['age']].dropna()\n",
    "\n",
    "X_train = df_known[feature_cols]\n",
    "y_train = df_known['age']\n",
    "\n",
    "rfr_imputer = RandomForestRegressor()\n",
    "rfr_imputer.fit(X_train, y_train)\n",
    "\n",
    "df_missing = df_age_impute.loc[unknown_mask, feature_cols].dropna()\n",
    "missing_indices = df_missing.index\n",
    "\n",
    "y_pred = dtr_imputer.predict(df_missing)\n",
    "\n",
    "df_rfr_impute.loc[missing_indices, 'age'] = y_pred"
   ]
  },
  {
   "cell_type": "code",
   "execution_count": 68,
   "id": "b06e5ca4",
   "metadata": {},
   "outputs": [
    {
     "data": {
      "text/plain": [
       "np.int64(0)"
      ]
     },
     "execution_count": 68,
     "metadata": {},
     "output_type": "execute_result"
    }
   ],
   "source": [
    "# checking for null values in age column \n",
    "df_rfr_impute['age'].isna().sum()"
   ]
  },
  {
   "cell_type": "markdown",
   "id": "559df897",
   "metadata": {},
   "source": [
    "# d. KNN(K-Nearest Neighbors) Imputation"
   ]
  },
  {
   "cell_type": "markdown",
   "id": "d19f92b9",
   "metadata": {},
   "source": [
    "i. imputation through KNN : for categorical variable."
   ]
  },
  {
   "cell_type": "code",
   "execution_count": 69,
   "id": "89784d0e",
   "metadata": {},
   "outputs": [
    {
     "data": {
      "text/plain": [
       "np.int64(0)"
      ]
     },
     "execution_count": 69,
     "metadata": {},
     "output_type": "execute_result"
    }
   ],
   "source": [
    "from sklearn.impute import KNNImputer \n",
    "df_knn_impute = sb.load_dataset('titanic') \n",
    "# Creating a KNNImputer instance with 5 neighbors \n",
    "knn_imputer = KNNImputer(n_neighbors=5) \n",
    "# filling missing values in the age column through simple mean imputation\n",
    "df_knn_impute['age'] = df_knn_impute['age'].fillna(int(df_knn_impute['age'].mean()))\n",
    "# encoding categorical variable - embark_town for inverse transformation \n",
    "df_knn_impute['embark_town_encoded'] = le.fit_transform(df_knn_impute['embark_town'].astype(str))\n",
    "\n",
    "# Apply KNN Imputer\n",
    "knn = KNNImputer(n_neighbors=5)\n",
    "df_knn_impute[['age','fare','pclass','embark_town_encoded']] = knn.fit_transform(df_knn_impute[['age','fare','pclass','embark_town_encoded']])\n",
    "\n",
    "# Rounding and decoding back\n",
    "df_knn_impute['embark_town'] = le.inverse_transform(df_knn_impute['embark_town_encoded'].round().astype(int))\n",
    "# checking for null values in embark_town column\n",
    "df_knn_impute['embark_town'].isna().sum()\n"
   ]
  },
  {
   "cell_type": "markdown",
   "id": "bad447a2",
   "metadata": {},
   "source": [
    "ii. imputation through KNN : for numerical variable"
   ]
  },
  {
   "cell_type": "code",
   "execution_count": null,
   "id": "f5b4f023",
   "metadata": {},
   "outputs": [
    {
     "data": {
      "text/plain": [
       "np.int64(0)"
      ]
     },
     "execution_count": 70,
     "metadata": {},
     "output_type": "execute_result"
    }
   ],
   "source": [
    "df_knn_impute_age = sb.load_dataset('titanic') \n",
    "df_knn_impute_age['sex_encoded'] = le.fit_transform(df_knn_impute_age['sex']) \n",
    "# imputing missing values in embark_town column with mode \n",
    "df_knn_impute_age['embark_town'] = df_knn_impute_age['embark_town'].fillna(df_knn_impute_age['embark_town'].mode()) \n",
    "df_knn_impute_age['embark_town_encoded'] = le.fit_transform(df_knn_impute_age['embark_town'].astype(str))  \n",
    "# features for KNN imputation\n",
    "features = ['age','fare','pclass','sex_encoded','embark_town_encoded']\n",
    "imputed = knn.fit_transform(df_knn_impute_age[features]) \n",
    "df_knn_impute_age['age'] = imputed[:,0] \n",
    "df_knn_impute_age['age'].apply(lambda x: int(x))\n",
    "# checking for null values in age column \n",
    "df_knn_impute_age['age'].isna().sum()"
   ]
  }
 ],
 "metadata": {
  "kernelspec": {
   "display_name": "Python 3",
   "language": "python",
   "name": "python3"
  },
  "language_info": {
   "codemirror_mode": {
    "name": "ipython",
    "version": 3
   },
   "file_extension": ".py",
   "mimetype": "text/x-python",
   "name": "python",
   "nbconvert_exporter": "python",
   "pygments_lexer": "ipython3",
   "version": "3.13.2"
  }
 },
 "nbformat": 4,
 "nbformat_minor": 5
}

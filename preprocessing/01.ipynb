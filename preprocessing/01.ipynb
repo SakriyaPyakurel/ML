{
 "cells": [
  {
   "cell_type": "markdown",
   "id": "16b46a23",
   "metadata": {},
   "source": [
    "# Imputation of missing values"
   ]
  },
  {
   "cell_type": "markdown",
   "id": "19c1799c",
   "metadata": {},
   "source": [
    "# a. Simple imputation "
   ]
  },
  {
   "cell_type": "markdown",
   "id": "3caadb78",
   "metadata": {},
   "source": [
    "i. Simple imputation through mean and median : for numerical features"
   ]
  },
  {
   "cell_type": "code",
   "execution_count": null,
   "id": "abd087a9",
   "metadata": {},
   "outputs": [],
   "source": [
    "import seaborn as sb \n",
    "df = sb.load_dataset('titanic') \n",
    "# Printing the first five rows of the dataset\n",
    "df.head()"
   ]
  },
  {
   "cell_type": "code",
   "execution_count": null,
   "id": "f7adf72b",
   "metadata": {},
   "outputs": [],
   "source": [
    "# check for null values \n",
    "df.isna().sum()"
   ]
  },
  {
   "cell_type": "code",
   "execution_count": null,
   "id": "1dfad847",
   "metadata": {},
   "outputs": [],
   "source": [
    "# handling null values in age column through simple mean imputation \n",
    "df['age'] = df['age'].fillna(df['age'].mean())\n",
    "# checking for null values in age column \n",
    "df['age'].isna().sum()"
   ]
  },
  {
   "cell_type": "code",
   "execution_count": null,
   "id": "b25bd949",
   "metadata": {},
   "outputs": [],
   "source": [
    "# handling null values in age column through simple median imputation \n",
    "df['age'] = df['age'].fillna(df['age'].median()) \n",
    "# checking for null values in age column \n",
    "df['age'].isna().sum()"
   ]
  },
  {
   "cell_type": "markdown",
   "id": "7a6f6474",
   "metadata": {},
   "source": [
    "ii. Simple imputation through mode : for categorical values "
   ]
  },
  {
   "cell_type": "code",
   "execution_count": null,
   "id": "1afcaffe",
   "metadata": {},
   "outputs": [],
   "source": [
    "# handling null values in deck column through simple mode imputation \n",
    "df['deck_mode_imputed'] = df['deck'].fillna(df['deck'].mode()) \n",
    "# checking for null values in deck column \n",
    "df['deck_mode_imputed'].isna().sum()"
   ]
  },
  {
   "cell_type": "markdown",
   "id": "f8a55d65",
   "metadata": {},
   "source": [
    "We were unable to handle the null values in deck column through mode imputation so we gonna drop the entire deck column"
   ]
  },
  {
   "cell_type": "code",
   "execution_count": null,
   "id": "8c2ad3ce",
   "metadata": {},
   "outputs": [],
   "source": [
    "# dropping deck column from the dataframe \n",
    "df.drop(['deck','deck_mode_imputed'],axis=1,inplace=True)\n",
    "df.head()"
   ]
  }
 ],
 "metadata": {
  "kernelspec": {
   "display_name": "Python 3",
   "language": "python",
   "name": "python3"
  },
  "language_info": {
   "codemirror_mode": {
    "name": "ipython",
    "version": 3
   },
   "file_extension": ".py",
   "mimetype": "text/x-python",
   "name": "python",
   "nbconvert_exporter": "python",
   "pygments_lexer": "ipython3",
   "version": "3.13.2"
  }
 },
 "nbformat": 4,
 "nbformat_minor": 5
}

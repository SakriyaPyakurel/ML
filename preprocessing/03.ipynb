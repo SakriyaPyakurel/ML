{
 "cells": [
  {
   "cell_type": "markdown",
   "id": "a8b2efdf",
   "metadata": {},
   "source": [
    "# Data Transformation\n",
    "\n",
    "Process of converting data into a specific range such that machine learning  models can use it efficiently with maximum computational efficiency and accuracy."
   ]
  },
  {
   "cell_type": "markdown",
   "id": "34955e79",
   "metadata": {},
   "source": [
    "<b>Scaling</b><br>\n",
    "\n",
    "Shrinking the range of the data without altering the shape of its distribution.<br>\n",
    "Especially important for algorithms that are sensitive to the scale of the data such as support vector machines(SVMs) or K-neares neighbors(KNN)."
   ]
  },
  {
   "cell_type": "code",
   "execution_count": 9,
   "id": "1314a581",
   "metadata": {},
   "outputs": [],
   "source": [
    "# importing necessary libraries \n",
    "from sklearn.preprocessing import StandardScaler, MinMaxScaler, MaxAbsScaler , RobustScaler \n",
    "import random"
   ]
  },
  {
   "cell_type": "markdown",
   "id": "b27eb353",
   "metadata": {},
   "source": [
    "<b>Types of scaling:</b></br>\n",
    "\n",
    "i. Standardization(Standard Scaler) : Scaling the data into unknown specific unkown range (usually between -3 and 3)."
   ]
  },
  {
   "cell_type": "code",
   "execution_count": 10,
   "id": "694b63c0",
   "metadata": {},
   "outputs": [
    {
     "data": {
      "text/plain": [
       "[[92, 66, 26, 95, 44, 87, 91, 82, 87, 54],\n",
       " [24, 90, 47, 72, 94, 71, 88, 85, 54, 61],\n",
       " [33, 80, 98, 28, 55, 94, 96, 39, 51, 45],\n",
       " [60, 24, 61, 74, 73, 100, 39, 96, 96, 26],\n",
       " [71, 75, 39, 95, 76, 63, 66, 60, 92, 89],\n",
       " [12, 25, 37, 20, 78, 79, 34, 68, 62, 33],\n",
       " [25, 19, 62, 100, 72, 48, 19, 62, 22, 72],\n",
       " [97, 85, 29, 49, 56, 23, 78, 92, 87, 98],\n",
       " [33, 47, 15, 57, 32, 28, 31, 37, 41, 60],\n",
       " [39, 57, 100, 87, 60, 18, 81, 33, 83, 38]]"
      ]
     },
     "execution_count": 10,
     "metadata": {},
     "output_type": "execute_result"
    }
   ],
   "source": [
    "# trying standard scaler \n",
    "standard_scaler = StandardScaler()\n",
    "# making a random sample data\n",
    "data = [[random.randint(10,100) for _ in range(10)] for _ in range(10)] \n",
    "data"
   ]
  },
  {
   "cell_type": "code",
   "execution_count": 11,
   "id": "6343df06",
   "metadata": {},
   "outputs": [
    {
     "data": {
      "text/plain": [
       "[[1.5403635751229168,\n",
       "  0.36186834252304917,\n",
       "  -0.9219372978207274,\n",
       "  1.0117983681016507,\n",
       "  -1.160517706371319,\n",
       "  0.9009090766520246,\n",
       "  1.053035532644782,\n",
       "  0.7495750910097196,\n",
       "  0.8188869195240815,\n",
       "  -0.1609582690299037],\n",
       " [-0.8731093075581511,\n",
       "  1.3058727143223074,\n",
       "  -0.1597056736382362,\n",
       "  0.15936750852883133,\n",
       "  1.7407765595569784,\n",
       "  0.3443629289133221,\n",
       "  0.9429621320198919,\n",
       "  0.8850404689030424,\n",
       "  -0.5669217135166719,\n",
       "  0.1520161429726867],\n",
       " [-0.5536790730856568,\n",
       "  0.9125375594059498,\n",
       "  1.6914282708049568,\n",
       "  -1.4713697880452576,\n",
       "  -0.5222329678670935,\n",
       "  1.1443980162877068,\n",
       "  1.2364912003529323,\n",
       "  -1.1920953254612414,\n",
       "  -0.6929043165203768,\n",
       "  -0.5633539416046628],\n",
       " [0.40461163033182607,\n",
       "  -1.290139308125653,\n",
       "  0.3484487424834246,\n",
       "  0.23349193110038083,\n",
       "  0.5222329678670935,\n",
       "  1.3531028216897203,\n",
       "  -0.8549034115199796,\n",
       "  1.381746854511893,\n",
       "  1.1968347285351961,\n",
       "  -1.4128559170402653],\n",
       " [0.7950263613537635,\n",
       "  0.7158699819477711,\n",
       "  -0.45007962570775667,\n",
       "  1.0117983681016507,\n",
       "  0.6963106238227914,\n",
       "  0.06608985504397087,\n",
       "  0.13575719410403123,\n",
       "  -0.2438376802079814,\n",
       "  1.0288579245302563,\n",
       "  1.4039137909830484],\n",
       " [-1.29901628685481,\n",
       "  -1.2508057926340173,\n",
       "  -0.5226731137251368,\n",
       "  -1.7678674783314556,\n",
       "  0.8123623944599232,\n",
       "  0.6226360027826733,\n",
       "  -1.0383590792281299,\n",
       "  0.11740332750754623,\n",
       "  -0.23096810550679225,\n",
       "  -1.099881505037675],\n",
       " [-0.8376170592834296,\n",
       "  -1.486806885583832,\n",
       "  0.38474548649211465,\n",
       "  1.1971094245305243,\n",
       "  0.46420708254852755,\n",
       "  -0.4556721584610627,\n",
       "  -1.5887260823525802,\n",
       "  -0.15352742827909951,\n",
       "  -1.9107361455561904,\n",
       "  0.6438330761196145],\n",
       " [1.7178248164965249,\n",
       "  1.1092051368641287,\n",
       "  -0.8130470657946572,\n",
       "  -0.693063351043988,\n",
       "  -0.46420708254852755,\n",
       "  -1.3252755143027852,\n",
       "  0.5760507966035916,\n",
       "  1.2011263506541292,\n",
       "  0.8188869195240815,\n",
       "  1.8063094635578074],\n",
       " [-0.5536790730856568,\n",
       "  -0.3854684518180304,\n",
       "  -1.321201481916318,\n",
       "  -0.39656566075778993,\n",
       "  -1.8568283301941102,\n",
       "  -1.1513548431344407,\n",
       "  -1.1484324798530199,\n",
       "  -1.2824055773901235,\n",
       "  -1.1128463265327262,\n",
       "  0.10730551268660236],\n",
       " [-0.3407255834373273,\n",
       "  0.007866703098327266,\n",
       "  1.7640217588223368,\n",
       "  0.7153006778154526,\n",
       "  -0.23210354127426377,\n",
       "  -1.4991961854711298,\n",
       "  0.6861241972284817,\n",
       "  -1.4630260812478872,\n",
       "  0.6509101155191418,\n",
       "  -0.8763283536072531]]"
      ]
     },
     "execution_count": 11,
     "metadata": {},
     "output_type": "execute_result"
    }
   ],
   "source": [
    "# applying standard scaler \n",
    "standard_scaled_data = standard_scaler.fit_transform(data) \n",
    "# conversion of numpy array to list for better readability\n",
    "standard_scaled_data = standard_scaled_data.tolist() \n",
    "standard_scaled_data"
   ]
  },
  {
   "cell_type": "markdown",
   "id": "c6bade0c",
   "metadata": {},
   "source": [
    "<b>Interpretation:</b> All the data points are converted into the range of -3 and 3."
   ]
  }
 ],
 "metadata": {
  "kernelspec": {
   "display_name": "Python 3",
   "language": "python",
   "name": "python3"
  },
  "language_info": {
   "codemirror_mode": {
    "name": "ipython",
    "version": 3
   },
   "file_extension": ".py",
   "mimetype": "text/x-python",
   "name": "python",
   "nbconvert_exporter": "python",
   "pygments_lexer": "ipython3",
   "version": "3.13.2"
  }
 },
 "nbformat": 4,
 "nbformat_minor": 5
}
